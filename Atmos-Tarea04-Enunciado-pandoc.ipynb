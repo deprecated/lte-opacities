{
 "cells": [
  {
   "cell_type": "markdown",
   "metadata": {},
   "source": [
    "Astrofísica Estelar - Tarea 04\n",
    "==============================\n",
    "\n",
    "La meta de esta tarea es reproducir las figuras 8.5(a, b, c, d) del\n",
    "libro de Gray. Estas figuras muestran el coeficiente de absorción\n",
    "continua $\\kappa_\\lambda$ para para diferentes temperaturas $T$ y\n",
    "presiones electrónicas $P_{e}$ en equilibrio termodinámico local (ETL).\n",
    "\n",
    "Por simplicidad, consideramos solo hidrógeno, en forma de átomo neutro y\n",
    "los iones positivos y negativos. Fracciones de ionización y excitación\n",
    "de los niveles ligados se calculan con las ecuaciones de Saha y de\n",
    "Boltzmann.\n",
    "\n",
    "Nota importante\n",
    "---------------\n",
    "\n",
    "Hay unos errores en el libro, que están corregidos en [esta\n",
    "página](http://astro.uwo.ca/~dfgray/Photospheres.html)\n",
    "\n",
    "Plan general\n",
    "------------\n",
    "\n",
    "Las cuatro contribuciones a la opacidad que hay que calcular (anotadas\n",
    "con las ecuaciones relevantes de Gray) son:\n",
    "\n",
    "1.  Ligado-libre de H^0^\n",
    "    -   ec. (8.8) - *pero ver abajo*\n",
    "2.  Libre-libre de H^+^ + e^-^\n",
    "    -   ec. (8.10)\n",
    "3.  Ligado-libre de H^-^\n",
    "    -   ecs. (8.11) y (8.12)\n",
    "4.  Libre-libre de H^0^ + e^-^\n",
    "    -   ec. (8.13)\n",
    "\n",
    "Noten que Gray defina la $\\kappa$ como la absorción por átomo de\n",
    "hidrógeno neutro. Para convertir esta en la opacidad por masa, hay que\n",
    "multiplicar por la fracción de H^0^ y dividir por la masa del hidrógeno:\n",
    "$m_{\\mathrm{H}}\n",
    "= 1.67 \\times 10^{{-24}}$ g. Ver su ecuación 8.18.\n",
    "\n",
    "1.  Ligado-libre de H<sup>0</sup>.\n",
    "    -   ec. (8.8) - *pero ver abajo*\n",
    "2.  Libre-libre de H<sup>+</sup> + e<sup>-</sup>.\n",
    "    -   ec. (8.10)\n",
    "3.  Ligado-libre de H<sup>-</sup>.\n",
    "    -   ecs. (8.11) y (8.12)\n",
    "4.  Libre-libre de H<sup>0</sup> + e<sup>-</sup>.\n",
    "    -   ec. (8.13)\n",
    "\n",
    "Para las contribuciones (1) y (2), las ecuaciones (8.8) y (8.10) de Gray\n",
    "mezclan la contribuciones de la ionización, la excitación, y las\n",
    "secciones rectas. Yo creo que es más ilustrativo calcular estos partes\n",
    "por separado. Es un poco más de trabajo, pero tiene la ventaja que\n",
    "podemos hacer pruebas y gráficas de las diferentes partes.\n",
    "\n",
    "Constantes físicos\n",
    "------------------\n",
    "\n",
    "Trabajamos con las energías en electron-volts, entonces queremos que\n",
    "todos nuestros constantes sean consistentes con esto. Aquí hay una\n",
    "manera de obtener eso"
   ]
  },
  {
   "cell_type": "code",
   "execution_count": null,
   "metadata": {},
   "outputs": [],
   "source": [
    "import astropy.units as u\n",
    "from astropy.constants import k_B, h, m_p, a0, m_e\n",
    "from astropy.constants import c as light_speed\n",
    "\n",
    "BOLTZMANN = k_B.to(u.eV/u.K).value\n",
    "PLANCK = h.to(u.eV*u.s).value\n",
    "RYDBERG = (1.0*u.Ry).to(u.eV).value\n",
    "HMINUS_EION = (0.754*u.eV).value\n",
    "BOHR_RADIUS = a0.cgs.value\n",
    "\n",
    "print('BOLTZMANN =', BOLTZMANN, 'eV/K')\n",
    "print('PLANCK =', PLANCK, 'eV.s')\n",
    "print('RYDBERG =', RYDBERG, 'eV')\n",
    "print('HMINUS_EION =', HMINUS_EION, 'eV')\n",
    "print('BOHR_RADIUS =', BOHR_RADIUS, 'cm')"
   ]
  },
  {
   "cell_type": "markdown",
   "metadata": {},
   "source": [
    "A mi me da el resultado:\n",
    "\n",
    "``` {.example}\n",
    "BOLTZMANN = 8.617330337217213e-05 eV/K\n",
    "PLANCK = 4.1356676623401646e-15 eV.s\n",
    "RYDBERG = 13.60569300965081 eV\n",
    "HMINUS_EION = 0.754 eV\n",
    "BOHR_RADIUS = 5.2917721067e-09 cm\n",
    "```"
   ]
  }
 ],
 "metadata": {
  "jupytext": {
   "formats": "ipynb,py:light,md"
  },
  "kernel_info": {
   "name": "python3"
  },
  "kernelspec": {
   "display_name": "Python 3",
   "language": "python",
   "name": "python3"
  }
 },
 "nbformat": 4,
 "nbformat_minor": 4
}
