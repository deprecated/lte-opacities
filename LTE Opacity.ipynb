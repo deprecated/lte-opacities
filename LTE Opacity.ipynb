{
 "cells": [
  {
   "cell_type": "markdown",
   "metadata": {},
   "source": [
    "# Tarea 4 - LTE opacities for a pure H atmosphere"
   ]
  },
  {
   "cell_type": "markdown",
   "metadata": {},
   "source": [
    "We try to reproduce Figure 8.5 a, b, c, d from Gray, which show the wavelength-dependent continuous absorption coefficient $\\kappa_\\lambda$ for different temperatures $T$ and electron pressures $P_e$.  For simplicity, we consider only hydrogen, in the form of the neutral atom and the positive and negative ions.  Ion fractions and excitation of bound levels is calculated under the assumption of local thermodynamic equilibrium. "
   ]
  },
  {
   "cell_type": "markdown",
   "metadata": {},
   "source": [
    "## Ionization balance of hydrogen"
   ]
  },
  {
   "cell_type": "markdown",
   "metadata": {},
   "source": []
  },
  {
   "cell_type": "code",
   "execution_count": null,
   "metadata": {
    "collapsed": true
   },
   "outputs": [],
   "source": []
  },
  {
   "cell_type": "markdown",
   "metadata": {},
   "source": [
    "## Excitation of bound levels of H$^0$"
   ]
  },
  {
   "cell_type": "code",
   "execution_count": null,
   "metadata": {
    "collapsed": true
   },
   "outputs": [],
   "source": []
  },
  {
   "cell_type": "code",
   "execution_count": null,
   "metadata": {
    "collapsed": true
   },
   "outputs": [],
   "source": []
  },
  {
   "cell_type": "code",
   "execution_count": null,
   "metadata": {
    "collapsed": true
   },
   "outputs": [],
   "source": []
  },
  {
   "cell_type": "code",
   "execution_count": null,
   "metadata": {
    "collapsed": true
   },
   "outputs": [],
   "source": []
  },
  {
   "cell_type": "code",
   "execution_count": 1,
   "metadata": {
    "collapsed": true
   },
   "outputs": [],
   "source": [
    "import lteopacity"
   ]
  },
  {
   "cell_type": "code",
   "execution_count": 2,
   "metadata": {
    "collapsed": true
   },
   "outputs": [],
   "source": [
    "import numpy as np\n",
    "import matplotlib.pyplot as plt\n",
    "from lteopacity import LIGHTSPEED_CGS, ANGSTROM_CGS, MASA_PROTON\n",
    "from lteopacity import opacidad_total, funcHden, Hplus_fraction"
   ]
  },
  {
   "cell_type": "code",
   "execution_count": 3,
   "metadata": {
    "collapsed": true
   },
   "outputs": [],
   "source": [
    "%matplotlib inline"
   ]
  },
  {
   "cell_type": "code",
   "execution_count": 5,
   "metadata": {
    "collapsed": true
   },
   "outputs": [],
   "source": [
    "wav = np.linspace(2500.0, 20000.0, 500)\n",
    "nu = LIGHTSPEED_CGS / (wav * ANGSTROM_CGS)\n"
   ]
  },
  {
   "cell_type": "code",
   "execution_count": 6,
   "metadata": {
    "collapsed": false
   },
   "outputs": [
    {
     "data": {
      "text/plain": [
       "<matplotlib.figure.Figure at 0x1109a64a8>"
      ]
     },
     "metadata": {},
     "output_type": "display_data"
    }
   ],
   "source": [
    "# Gray, Fig 8.5a-d\n",
    "subfig_list = \"abcd\"\n",
    "T_list = [5143.0, 6429.0, 7715.0, 11572.0]\n",
    "logPe_list = [1.08, 1.77, 2.50, 2.76]\n",
    "for T, logPe, subfig in zip(T_list, logPe_list, subfig_list):\n",
    "    Pe = 10**logPe\n",
    "    Hden = funcHden(Pe, T)\n",
    "    y = Hplus_fraction(Hden, T)\n",
    "    for label, opacity in opacidad_total(Hden, T, nu).items():\n",
    "        plt.plot(wav, opacity, label=label)\n",
    "    plt.title(u\"T = %i K, log Pe = %.2f, log Hden = %.2f, H+/H0 = %.2e\" % (T, logPe, np.log10(Hden), y))\n",
    "    plt.xlabel(u\"lambda, Å\")\n",
    "    plt.ylabel(u\"kappa_nu, unidad = cm^2/g\")\n",
    "    plt.axis([None, None, 0.0, None])\n",
    "    plt.legend()\n",
    "    plt.savefig(\"test_opacity_%s.png\" % (subfig))\n",
    "    plt.clf()"
   ]
  },
  {
   "cell_type": "code",
   "execution_count": null,
   "metadata": {
    "collapsed": true
   },
   "outputs": [],
   "source": []
  }
 ],
 "metadata": {
  "kernelspec": {
   "display_name": "Python 3",
   "language": "python",
   "name": "python3"
  },
  "language_info": {
   "codemirror_mode": {
    "name": "ipython",
    "version": 3
   },
   "file_extension": ".py",
   "mimetype": "text/x-python",
   "name": "python",
   "nbconvert_exporter": "python",
   "pygments_lexer": "ipython3",
   "version": "3.4.5"
  }
 },
 "nbformat": 4,
 "nbformat_minor": 0
}
