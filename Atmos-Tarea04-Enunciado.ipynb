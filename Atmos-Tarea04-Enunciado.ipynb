{
 "cells": [
  {
   "cell_type": "markdown",
   "metadata": {},
   "source": [
    "# Astrofísica Estelar - Tarea 04 \n",
    "\n",
    "La meta de esta tarea es reproducir las figuras 8.5(a, b, c, d) del libro de Gray. Estas figuras muestran el coeficiente de absorción continua $\\kappa_\\lambda$ para para diferentes temperaturas $T$ y presiones electrónicas $P_{e}$ en equilibrio termodinámico local (ETL).\n",
    "\n",
    "Por simplicidad, consideramos solo hidrógeno, en forma de átomo neutro y los iones positivos y negativos. Fracciones de ionización y excitación de los niveles ligados se calculan con las ecuaciones de Saha y de Boltzmann.\n",
    "\n",
    "- [Nota importante](#org6020450)\n",
    "- [Plan general](#orgc561c97)\n",
    "- [Constantes físicos](#org01d7ad1)\n",
    "- [Balance de ionización de hidrógeno](#orga12a6f4)\n",
    "  - [La ecuación de Saha general](#orge0650df)\n",
    "    - [Ejercicio 1: Evaluar el constante en la ecuación Saha](#org146d3c0)\n",
    "    - [Ejercicio 2: Escribir una función para evaluar $\\Phi_j(T)$](#orgcccbee6)\n",
    "  - [La abundancia de H⁺](#orgc887a85)\n",
    "    - [Ejercicio 3: Encontrar la fracción de ionización para H⁺](#orgac0b637)\n",
    "  - [La abundancia de H⁻](#org8bb3534)\n",
    "    - [Ejercicio 4:  Encontrar la fracción de ionización para H⁻](#org4dd8ec0)\n",
    "  - [Tabla y gráficas de las fracciones de ionización](#org59a416b)\n",
    "    - [Ejercicio 5: Graficar la fracción de H⁺ contra temperatura](#org5507a52)\n",
    "    - [Ejercicio 6: Graficar la fracción de H⁻ contra temperatura](#orga2b0907)\n",
    "- [Excitación de los niveles ligados de H⁰](#orga370889)\n",
    "  - [Ejercicio 7: calcular la población del nivel $n$](#org2b7637a)\n",
    "- [Secciones rectas en función de longitud de onda](#org25c3f89)\n",
    "  - [Fotoionización de hidrógeno neutro H⁰](#org92461cb)\n",
    "    - [Ejercicio 8: Escribe una función para calcular la sección eficaz ligado-libre de H⁰](#orgcd12f0f)\n",
    "    - [Ejercicio 9: Grafique los resultados contra λ para $n \\le 5$](#org17c0d4e)\n",
    "  - [Libre-libre H⁺ + e⁻](#orgfc0ad95)\n",
    "    - [Ejercicio 10: Calcule el valor numérico de $\\alpha_0$](#org9b28e05)\n",
    "    - [Ejercicio 11: Escribe funciones para calcular la sección eficaz libre-libre](#org43f09b2)\n",
    "  - [Ion negativo de hidrógeno H⁻](#org997652e)\n",
    "    - [Ejercicio 12: ligado-libre de H⁻](#org24ba48b)\n",
    "    - [Ejercicio 12: libre-libre de H⁰ + e⁻](#org7622dfc)\n",
    "- [Relación entre densidad total de hidrógeno $N_\\mathrm{H}$ y presión de electrones $P_e$](#org5453896)\n",
    "  - [Ejercicio 13: Graficar $P_e(T)$ para diferentes densidades](#org0e8231a)\n",
    "  - [Solución implícita para invertir la relación](#org769e5eb)\n",
    "  - [Ejercicio 14: Graficar $N_\\mathrm{H}(P_e, T)$ para diferentes presiones electrónicas](#orgb46c79b)\n",
    "- [Opacidad total en función de longitud de onda](#orgc5b161c)\n",
    "  - [Opacidad por unidad de masa](#org7e396f1)\n",
    "    - [Ejercico 15: Probar la función `opacidad_total()`](#orga37529e)\n",
    "  - [Figuras 8.5(a)-(d) de Gray](#org77c35cf)\n",
    "    - [Ejercicio 16: Reproducción de la figura 8.5](#org45d3515)"
   ]
  },
  {
   "cell_type": "markdown",
   "metadata": {},
   "source": [
    "<a id=\"org6020450\"></a>\n",
    "\n",
    "# Nota importante\n",
    "\n",
    "Hay unos errores en el libro, que están corregidos en [esta página](http://astro.uwo.ca/~dfgray/Photospheres.html). La única corrección importante para esta tarea es a la figura 8.5(a)."
   ]
  },
  {
   "cell_type": "markdown",
   "metadata": {},
   "source": [
    "<a id=\"orgc561c97\"></a>\n",
    "\n",
    "# Plan general\n",
    "\n",
    "Las cuatro contribuciones a la opacidad que hay que calcular (anotadas con las ecuaciones relevantes de Gray) son:\n",
    "\n",
    "1.  Ligado-libre de H⁺\n",
    "    -   ec. (8.8) - *pero ver abajo*\n",
    "2.  Libre-libre de H⁺ + e⁻\n",
    "    -   ec. (8.10)\n",
    "3.  Ligado-libre de H⁻\n",
    "    -   ecs. (8.11) y (8.12)\n",
    "4.  Libre-libre de H⁰ + e⁻\n",
    "    -   ec. (8.13)\n",
    "\n",
    "Noten que Gray defina la $\\kappa$ como la absorción por átomo de hidrógeno neutro. Para convertir esta en la opacidad por masa, hay que multiplicar por la fracción de H<sup>0</sup> y dividir por la masa del hidrógeno: $m_{\\mathrm{H}} = 1.67 \\times 10^{{-24}}$ g. Ver su ecuación 8.18.\n",
    "\n",
    "Para las contribuciones (1) y (2), las ecuaciones (8.8) y (8.10) de Gray mezclan la contribuciones de la ionización, la excitación, y las secciones rectas. Yo creo que es más ilustrativo calcular estos partes por separado. Es un poco más de trabajo, pero tiene la ventaja que podemos hacer pruebas y gráficas de las diferentes partes."
   ]
  },
  {
   "cell_type": "markdown",
   "metadata": {},
   "source": [
    "<a id=\"org01d7ad1\"></a>\n",
    "\n",
    "# Constantes físicos\n",
    "\n",
    "Trabajamos con las energías en electron-volts, entonces queremos que todos nuestros constantes sean consistentes con esto. Aquí hay una manera de obtener eso"
   ]
  },
  {
   "cell_type": "code",
   "execution_count": null,
   "metadata": {},
   "outputs": [],
   "source": [
    "import numpy as np\n",
    "import matplotlib.pyplot as plt\n",
    "\n",
    "import astropy.units as u\n",
    "from astropy.constants import k_B, h, m_p, a0, m_e\n",
    "from astropy.constants import c as light_speed\n",
    "\n",
    "BOLTZMANN = k_B.to(u.eV/u.K).value\n",
    "PLANCK = h.to(u.eV*u.s).value\n",
    "RYDBERG = (1.0*u.Ry).to(u.eV).value\n",
    "HMINUS_EION = (0.754*u.eV).value\n",
    "BOHR_RADIUS = a0.cgs.value\n",
    "\n",
    "print('BOLTZMANN =', BOLTZMANN, 'eV/K')\n",
    "print('PLANCK =', PLANCK, 'eV.s')\n",
    "print('RYDBERG =', RYDBERG, 'eV')\n",
    "print('HMINUS_EION =', HMINUS_EION, 'eV')\n",
    "print('BOHR_RADIUS =', BOHR_RADIUS, 'cm')"
   ]
  },
  {
   "cell_type": "markdown",
   "metadata": {},
   "source": [
    "A mi me da el resultado:\n",
    "\n",
    "    BOLTZMANN = 8.617330337217213e-05 eV/K\n",
    "    PLANCK = 4.1356676623401646e-15 eV.s\n",
    "    RYDBERG = 13.60569300965081 eV\n",
    "    HMINUS_EION = 0.754 eV\n",
    "    BOHR_RADIUS = 5.2917721067e-09 cm\n",
    "\n",
    "\n",
    "<a id=\"orga12a6f4\"></a>\n",
    "\n",
    "# Balance de ionización de hidrógeno\n",
    "\n",
    "Las diferentes contribuciones a la opacidad son proporcionales a las abundancias de diferentes especies. Por ejemplo, ligado-libre es proporcional a H⁰, mientras libre-libre es proporcional a H⁺. Por lo tanto, tenemos que conocer el grado de ionización.\n",
    "\n",
    "Entonces, vamos a resolver la ecuación Saha, de manera similar a la Tarea~01. Una diferencia es que vamos a suponer que conocemos la densidad total de H, y que la densidad electrónica (o presión electrónica) es algo que hay que encontrar."
   ]
  },
  {
   "cell_type": "markdown",
   "metadata": {},
   "source": [
    "<a id=\"orge0650df\"></a>\n",
    "\n",
    "## La ecuación de Saha general\n",
    "\n",
    "Usaremos la siguiente versión de la ecuación de Saha: $$ \\frac{N_{j+1} N_e}{N_j} = \\Phi_j(T), $$ que relaciona las densidades de las etapas de ionización adyacentes: $j$ y $j+1$.\n",
    "\n",
    "La función en el lado derecho es $$ \\Phi_j(T) = 2 \\left( \\frac{2\\pi m_e k T}{h^2} \\right)^{1.5} \\frac{U_{j+1}}{U_j} e^{-E_j/k T}, $$ donde $E_j$ es la $j$-ésima potencia de ionización y $U_j$, $U_{j+1}$ son las funciones de partición."
   ]
  },
  {
   "cell_type": "markdown",
   "metadata": {},
   "source": [
    "<a id=\"org146d3c0\"></a>\n",
    "\n",
    "### Ejercicio 1: Evaluar el constante en la ecuación Saha\n",
    "\n",
    "Usar los constantes `k_B`, `m_e`, `h` (ver arriba) y `np.pi` para evaluar el constante $2 (2\\pi m_e k / h^2)^{3/2}$ en sistema cgs:"
   ]
  },
  {
   "cell_type": "code",
   "execution_count": null,
   "metadata": {},
   "outputs": [],
   "source": [
    "saha_C = ????\n",
    "saha_C.cgs"
   ]
  },
  {
   "cell_type": "markdown",
   "metadata": {},
   "source": [
    "Note que unos libros (por ejemplo, Hubeny y Mihalas) usan un constante que es el recíproco de esto."
   ]
  },
  {
   "cell_type": "markdown",
   "metadata": {},
   "source": [
    "<a id=\"orgcccbee6\"></a>\n",
    "\n",
    "### Ejercicio 2: Escribir una función para evaluar $\\Phi_j(T)$\n",
    "\n",
    "Usamos valores de defecto para la potencia de ionización `Eion` y las funciones de partición, `Un` y `Ui`, que son apropiadas para H⁰ (a bajas temperaturas se puede aproximar $U_j = 2$, $U_{j+1} = 1$). Hay que usar el constante `BOLTZMANN` en eV/K que definimos antes."
   ]
  },
  {
   "cell_type": "code",
   "execution_count": null,
   "metadata": {},
   "outputs": [],
   "source": [
    "SAHA_CONSTANT = saha_C.cgs.value\n",
    "\n",
    "def Saha_Phi(T, Eion=1.0*RYDBERG, Ui=1.0, Un=2.0):\n",
    "    \"\"\"\n",
    "    Función Phi(T) = (Ni Ne / Nn) de Saha para energía de ionización Eion (en eV),\n",
    "    y con funciones de partición Ui y Un.  La T es en kelvin\n",
    "    \"\"\"\n",
    "    return SAHA_CONSTANT * ?????"
   ]
  },
  {
   "cell_type": "markdown",
   "metadata": {},
   "source": [
    "Luego, probamos la función con unas temperaturas típicas:"
   ]
  },
  {
   "cell_type": "code",
   "execution_count": null,
   "metadata": {},
   "outputs": [],
   "source": [
    "Ts = np.array([3, 5, 9, 15])*u.kK\n",
    "Ts.cgs"
   ]
  },
  {
   "cell_type": "markdown",
   "metadata": {},
   "source": [
    "Llamamos la función así:"
   ]
  },
  {
   "cell_type": "code",
   "execution_count": null,
   "metadata": {},
   "outputs": [],
   "source": [
    "Saha_Phi(Ts.cgs.value)"
   ]
  },
  {
   "cell_type": "markdown",
   "metadata": {},
   "source": [
    "Note que el argumento `T` a `Saha_Phi` es un número normal (`float`)."
   ]
  },
  {
   "cell_type": "markdown",
   "metadata": {},
   "source": [
    "<a id=\"orgc887a85\"></a>\n",
    "\n",
    "## La abundancia de H⁺\n",
    "\n",
    "Suponemos que la abundancia de H⁻ es siempre una fracción despreciable, entonces tenemos números iguales de electrones y electrones libres: $N_+ = N_e$."
   ]
  },
  {
   "cell_type": "markdown",
   "metadata": {},
   "source": [
    "<a id=\"orgac0b637\"></a>\n",
    "\n",
    "### Ejercicio 3: Encontrar la fracción de ionización para H⁺\n",
    "\n",
    "Muestre que la fracción de H⁺, $y = N_+ / N_H$, es la solución de la ecuación cuadrática $y^2 + A y - A = 0$, donde $A = \\Phi_{H_0} / N_H$.\n",
    "\n",
    "Una función para evaluar esta fracción en función de la densidad de H y la temperatura podría ser la siguiente:"
   ]
  },
  {
   "cell_type": "code",
   "execution_count": null,
   "metadata": {},
   "outputs": [],
   "source": [
    "@np.vectorize\n",
    "def Hplus_fraction(Hden, T):\n",
    "    \"\"\"\n",
    "    Calcular fracción de hidrógeno ionizado\n",
    "\n",
    "    `Hden` es densidad de partículas totales de H en cm^{-3}\n",
    "    `T` es temperatura en K\n",
    "    \"\"\"\n",
    "    A = Saha_Phi(T) / Hden\n",
    "    # Resolver polinomio: y**2 + A*y - A = 0\n",
    "    y = np.roots([1.0, A, -A]).max() # tomar raiz positivo\n",
    "    return y"
   ]
  },
  {
   "cell_type": "markdown",
   "metadata": {},
   "source": [
    "Notas:\n",
    "\n",
    "1.  Usamos la función `np.roots()` que encuentra todos los raíces de un polinomio. Esta devuelva dos raíces, entonces usamos `.max()` para seleccionar la positiva.\n",
    "2.  Usamos el decorador `@np.vectorize` para que se puede aplica la función a vectores de densidad y temperatura. Es necesario aquí porque `np.roots()` es para un polinomio a la vez."
   ]
  },
  {
   "cell_type": "markdown",
   "metadata": {},
   "source": [
    "<a id=\"org8bb3534\"></a>\n",
    "\n",
    "## La abundancia de H⁻\n",
    "\n",
    "La ecuación de Saha para H⁻ es $$ \\frac{N_{H^0} N_e}{N_{H^-}} = \\Phi_{H^-}(T), $$"
   ]
  },
  {
   "cell_type": "markdown",
   "metadata": {},
   "source": [
    "<a id=\"org4dd8ec0\"></a>\n",
    "\n",
    "### Ejercicio 4:  Encontrar la fracción de ionización para H⁻\n",
    "\n",
    "Muestre que $$ N_{H^-} \\big/ N_H = (1 - y) y N_H \\big/ \\Phi_{H^-} $$ y entonces escribe una función para calcular esta fracción:"
   ]
  },
  {
   "cell_type": "code",
   "execution_count": null,
   "metadata": {},
   "outputs": [],
   "source": [
    "def Hminus_fraction(Hden, T):\n",
    "    \"\"\"\n",
    "    Calcular fracción del ión negativo de hidrógeno\n",
    "    \"\"\" \n",
    "    y = Hplus_fraction(Hden, T)\n",
    "    return ????"
   ]
  },
  {
   "cell_type": "markdown",
   "metadata": {},
   "source": [
    "En esta se puede usar la función `Saha_Phi`, pero cambiando los argumentos opcionales: `Saha_Phi(T, Eion=????, Ui=????, Un=????)`"
   ]
  },
  {
   "cell_type": "markdown",
   "metadata": {},
   "source": [
    "<a id=\"org59a416b\"></a>\n",
    "\n",
    "## Tabla y gráficas de las fracciones de ionización\n",
    "\n",
    "Podemos definir unas densidades típicas para atmósferas, y luego escribir una tabla de las fracciones:"
   ]
  },
  {
   "cell_type": "code",
   "execution_count": null,
   "metadata": {},
   "outputs": [],
   "source": [
    "Ns = np.array([10, 3, 1, 0.5])*1e15/u.cm**3\n",
    "Ns"
   ]
  },
  {
   "cell_type": "markdown",
   "metadata": {},
   "source": [
    "Usamos la librería `astropy.table` para construir la tabla para que salga con formato bonito en el notebook:"
   ]
  },
  {
   "cell_type": "code",
   "execution_count": null,
   "metadata": {},
   "outputs": [],
   "source": [
    "from astropy.table import Table\n",
    "Table(\n",
    "  data=[\n",
    "    Column(Ns.cgs, name=r'$N_H$'),\n",
    "    Column(Ts.cgs, name=r'$T$'),\n",
    "    Column(Hplus_fraction(Ns.cgs.value, Ts.cgs.value), name=r'$N_+/N_H$'),\n",
    "    Column(Hminus_fraction(Ns.cgs.value, Ts.cgs.value), name=r'$N_-/N_H$'),\n",
    "  ])"
   ]
  },
  {
   "cell_type": "markdown",
   "metadata": {},
   "source": [
    "Note que la fracción de H⁻ es siempre muy pequeño, lo cual justifica despreciarla cuando estimamos la densidad electrónica."
   ]
  },
  {
   "cell_type": "markdown",
   "metadata": {},
   "source": [
    "<a id=\"org5507a52\"></a>\n",
    "\n",
    "### Ejercicio 5: Graficar la fracción de H⁺ contra temperatura\n",
    "\n",
    "Definimos una serie de densidades: $\\{10^4, 10^6, \\dots, 10^{18}, 10^{20}\\}$ y un rango de temperaturas entre 2000 y 20,000 K:"
   ]
  },
  {
   "cell_type": "code",
   "execution_count": null,
   "metadata": {},
   "outputs": [],
   "source": [
    "logNgrid = range(4, 20, 2)\n",
    "Tgrid = np.linspace(2e3, 2e4, 500)"
   ]
  },
  {
   "cell_type": "markdown",
   "metadata": {},
   "source": [
    "Grafique la $y$ en función de la $T$ para cada densidad (una línea para cada valor de `logNgrid`). Use la función `Hplus_fraction` de arriba. Para las densidades típicas de fotósferas, ¿en que rango de temperatura ocurre la transición entre hidrógeno neutro e ionizado?"
   ]
  },
  {
   "cell_type": "markdown",
   "metadata": {},
   "source": [
    "<a id=\"orga2b0907\"></a>\n",
    "\n",
    "### Ejercicio 6: Graficar la fracción de H⁻ contra temperatura\n",
    "\n",
    "Repite la gráfica pero para el ion negativo. Esta vez, use una escala logarítmica en el eje vertical (una manera de hacerlo es usar `ax.set_yscale(\"log\")`). Se debe encontrar que la fracción $N_{H^-} / N_H$ tiene un pico en una temperatura intermedia. Comparando con la gráfica anterior ¿a qué valor de $y$ corresponde este pico? ¿por qué?"
   ]
  },
  {
   "cell_type": "markdown",
   "metadata": {},
   "source": [
    "<a id=\"orga370889\"></a>\n",
    "\n",
    "# Excitación de los niveles ligados de H⁰\n",
    "\n",
    "Utilizamos la ecuación de Boltzmann para calcular la población fraccional de un nivel ligado dado, $n$, de hidrógeno neutro: $$ \\frac{N_n}{N_{H^0}} = \\frac{g_n}{U(T)} e^{-E_n/k T} $$ donde la degenerancia es $g_n = 2 n^2$ y la energía arriba del nivel base ($n=1$) es $E_n = 1 - n^{-2}$ Rydberg."
   ]
  },
  {
   "cell_type": "markdown",
   "metadata": {},
   "source": [
    "<a id=\"org2b7637a\"></a>\n",
    "\n",
    "## Ejercicio 7: calcular la población del nivel $n$\n",
    "\n",
    "Se puede suponer que la función de partición es 2. Complete la función siguiente:"
   ]
  },
  {
   "cell_type": "code",
   "execution_count": null,
   "metadata": {},
   "outputs": [],
   "source": [
    "def H0_level_population(n, T, U=2.0):\n",
    "    \"\"\"\n",
    "    Calcular la población ETL del nivel n de hidrógeno neutro\n",
    "    a una temperatura T kelvin\n",
    "    \"\"\"\n",
    "    # Energía de excitación respeto a n=1\n",
    "    E = ????\n",
    "    # Peso estadístico\n",
    "    g = ????\n",
    "    return ????"
   ]
  },
  {
   "cell_type": "markdown",
   "metadata": {},
   "source": [
    "Esta función será usada más adelante."
   ]
  },
  {
   "cell_type": "markdown",
   "metadata": {},
   "source": [
    "<a id=\"org25c3f89\"></a>\n",
    "\n",
    "# Secciones rectas en función de longitud de onda"
   ]
  },
  {
   "cell_type": "markdown",
   "metadata": {},
   "source": [
    "<a id=\"org92461cb\"></a>\n",
    "\n",
    "## Fotoionización de hidrógeno neutro H⁰\n",
    "\n",
    "Para la fotoionización del nivel $n$, hay una energía umbral, $E_n = n^{-2}\\ \\mathrm{Ry}$, con una frecuencia mínima asociada, $\\nu_n = E_n/h$, o longitud de onda máxima, $\\lambda_n = h c / E_n$. La sección eficaz se da por $$ \\sigma_\\mathrm{bf}(n, \\nu) = \\sigma_0 n \\frac{\\nu_n^3}{\\nu^3} g_\\mathrm{bf}(n, \\nu) $$ donde $\\sigma_0 = 2.815\\times 10^{29} \\nu_1^{-3} = 7.906 \\times 10^{-18}\\ \\mathrm{cm}^2$ y $g_\\mathrm{bf}(n, \\nu)$ es el factor Gaunt que corrige por efectos de la mecánica cuántica."
   ]
  },
  {
   "cell_type": "markdown",
   "metadata": {},
   "source": [
    "<a id=\"orgcd12f0f\"></a>\n",
    "\n",
    "### Ejercicio 8: Escribe una función para calcular la sección eficaz ligado-libre de H⁰\n",
    "\n",
    "Se puede seguir un ejemplo como esto:"
   ]
  },
  {
   "cell_type": "code",
   "execution_count": null,
   "metadata": {},
   "outputs": [],
   "source": [
    "@np.vectorize\n",
    "def xsec_H0_boundfree(n, nu, xsec0=7.906e-18):\n",
    "    \"\"\"\n",
    "    Sección eficaz de fotoionización de nivel n de H0 a frecuencia nu Hz\n",
    "\n",
    "    Multiplicar por la fracción de H0(n) para dar cm^2 por átomo H^0\n",
    "    \"\"\"\n",
    "    E = PLANCK*nu               # energía de fotón\n",
    "    E0 = RYDBERG/n**2           # energía de ionización de nivel n\n",
    "\n",
    "    if E >= E0:\n",
    "        xsec = ???? # ESCRIBIR ALGO AQUÍ\n",
    "    else:\n",
    "        xsec = 0.0\n",
    "\n",
    "    return xsec"
   ]
  },
  {
   "cell_type": "markdown",
   "metadata": {},
   "source": [
    "Para evaluar el factor Gaunt, se puede usar la aproximación de Menzel y Perkis que se da en ec.~(8.5): $$ g_\\mathrm{bf}(n, \\nu) = 1 - \\frac{0.3456}{(\\lambda R)^{1/3}} \\left( \\frac{\\lambda R}{n^2} - \\frac{1}{2}\\right) . $$ Se sugiere escribir una función para esto, por ejemplo:"
   ]
  },
  {
   "cell_type": "code",
   "execution_count": null,
   "metadata": {
    "lines_to_next_cell": 2
   },
   "outputs": [],
   "source": [
    "def gaunt_H0_boundfree(n, nu):\n",
    "  \"\"\"\n",
    "  Factor Gaunt para fotoionización de nivel `n` de H0 a frecuencia `nu` Hz\n",
    "  \"\"\"\n",
    "  lambda_R = RYDBERG/(PLANCK*nu)\n",
    "  return ????? # ESCRIBIR ALGO AQUÍ"
   ]
  },
  {
   "cell_type": "markdown",
   "metadata": {},
   "source": [
    "<a id=\"org17c0d4e\"></a>\n",
    "\n",
    "### Ejercicio 9: Grafique los resultados contra λ para $n \\le 5$\n",
    "\n",
    "Primero, se puede definir un arreglo de $\\lambda$ (`wavs`) un arreglo equivalente en frecuencia (`freqs`)."
   ]
  },
  {
   "cell_type": "code",
   "execution_count": null,
   "metadata": {},
   "outputs": [],
   "source": [
    "wavs = np.linspace(40.0, 20000.0, 500)*u.AA\n",
    "freqs = (light_speed/wavs).cgs.value"
   ]
  },
  {
   "cell_type": "markdown",
   "metadata": {},
   "source": [
    "Por ejemplo, para graficar los factores Gaunt se puede hacer algo así:"
   ]
  },
  {
   "cell_type": "code",
   "execution_count": null,
   "metadata": {},
   "outputs": [],
   "source": [
    "fig, ax = plt.subplots(1, 1)\n",
    "for n in range(1, 5):\n",
    "  # Restringir a las frecuencias capaces de ionizar cada nivel\n",
    "  m = h*freqs >= 1.0*u.Ry/n**2\n",
    "  ax.plot(wavs[m], gaunt_H0_boundfree(n, freqs[m]), \n",
    "         label=r'$n = {}$'.format(n))\n",
    "ax.legend()\n",
    "ax.set_ylim(0.0, None)\n",
    "ax.set_xlabel(r'Wavelength, Å')\n",
    "ax.set_ylabel(r'$g_\\mathrm{bf}(n, \\nu)$')\n",
    "ax.set_title('Bound-free gaunt factors');"
   ]
  },
  {
   "cell_type": "markdown",
   "metadata": {},
   "source": [
    "El factor de Gaunt debe ser de orden 1, con tendencia de aumentarse un poco en la ultravioleta.\n",
    "\n",
    "Luego repite la gráfica pero para las secciones rectas. Cheque que puedes reproducir la figura 8.2 de Gray."
   ]
  },
  {
   "cell_type": "markdown",
   "metadata": {},
   "source": [
    "<a id=\"orgfc0ad95\"></a>\n",
    "\n",
    "## Libre-libre H⁺ + e⁻\n",
    "\n",
    "La sección recta por electrón (ver por ejemplo Rybicki sec 5.3) se escribe como $$ \\alpha_\\mathrm{ff} = \\alpha_0 \\frac{g_\\mathrm{ff}(T, \\nu)}{\\nu^3 T^{1/2}} \\quad \\mathrm{cm^2\\ \\big/\\ e^-}, $$ donde $$ \\alpha_0 = \\frac{4 e^6}{3 m h c} \\left(\\frac{2\\pi}{3 k m}\\right)^{1/2} , $$ y el factor Gaunt libre-libre se puede aproximar (Gray, Eq. 8.6) como $$ g_\\mathrm{ff}(T, \\nu) = 1 - \\frac{0.3456}{(\\lambda R)^{1/3}} \\left( \\frac{k T}{h \\nu} + \\frac{1}{2}\\right) . $$"
   ]
  },
  {
   "cell_type": "markdown",
   "metadata": {},
   "source": [
    "<a id=\"org9b28e05\"></a>\n",
    "\n",
    "### Ejercicio 10: Calcule el valor numérico de $\\alpha_0$\n",
    "\n",
    "Busque en `astropy.constants` para los constantes físicos que se necesitan. Note que para la carga electrónica `e`, hay que especificar un sistema específico para sacar el valor en cgs. Se debe usar el sistema electrostático (`e.esu` en `astropy.constants`)."
   ]
  },
  {
   "cell_type": "code",
   "execution_count": null,
   "metadata": {},
   "outputs": [],
   "source": [
    "from astropy.constants import ????\n",
    "alpha0 = ????\n",
    "alpha0.cgs"
   ]
  },
  {
   "cell_type": "markdown",
   "metadata": {},
   "source": [
    "El resultado debe ser aproximadamente $3.7 \\times 10^8$."
   ]
  },
  {
   "cell_type": "markdown",
   "metadata": {},
   "source": [
    "<a id=\"org43f09b2\"></a>\n",
    "\n",
    "### Ejercicio 11: Escribe funciones para calcular la sección eficaz libre-libre\n",
    "\n",
    "Escribe una función `gaunt_H0_freefree(T, nu)` y úsela en otra función `xsec_H0_freefree(T, nu)` para calcular la sección eficaz por electrón.\n",
    "\n",
    "Se puede usar algo como lo siguiente para graficarlas:"
   ]
  },
  {
   "cell_type": "code",
   "execution_count": null,
   "metadata": {},
   "outputs": [],
   "source": [
    "fig, ax = plt.subplots(1, 1)\n",
    "for T in [5e3, 1e4, 2e4]:\n",
    "  ax.plot(wavs, gaunt_H0_freefree(T, freqs), \n",
    "         label=r'$T = {:.0f}$ K'.format(T))\n",
    "ax.set_ylim(0.0, None)\n",
    "ax.legend(loc='lower left')\n",
    "ax.set_xlabel(r'Wavelength, Å')\n",
    "ax.set_ylabel(r'$g_\\mathrm{ff}(T, \\nu)$')\n",
    "ax.set_title('H$^0$ free-free gaunt factors');"
   ]
  },
  {
   "cell_type": "markdown",
   "metadata": {},
   "source": [
    "Los factores Gaunt deben de caer entre aproximadamente 0.5 y 0.9."
   ]
  },
  {
   "cell_type": "code",
   "execution_count": null,
   "metadata": {},
   "outputs": [],
   "source": [
    "fig, ax = plt.subplots(1, 1)\n",
    "for T in [5e3, 1e4, 2e4]:\n",
    "  ax.plot(wavs, xsec_H0_freefree(T, freqs), \n",
    "         label=r'$T = {:.0f}$ K'.format(T))\n",
    "ax.set_ylim(0.0, None)\n",
    "ax.legend(loc='upper left')\n",
    "ax.set_xlabel(r'Wavelength, Å')\n",
    "ax.set_ylabel(r'$\\alpha_\\mathrm{ff}(T, \\nu) / N_e N_{H^+}$, cm$^5$')\n",
    "ax.set_title('Free-free H$^0$ cross sections');"
   ]
  },
  {
   "cell_type": "markdown",
   "metadata": {},
   "source": [
    "Debe de subir con λ, alcanzando un poco más que $10^{-36}$ para $T = 5000$ K."
   ]
  },
  {
   "cell_type": "markdown",
   "metadata": {},
   "source": [
    "<a id=\"org997652e\"></a>\n",
    "\n",
    "## Ion negativo de hidrógeno H⁻\n",
    "\n",
    "Las páginas 154 a 156 de Gray proporcionan ajustes a la sección recta ligado-libre y libre-libre asociada a H⁻."
   ]
  },
  {
   "cell_type": "markdown",
   "metadata": {},
   "source": [
    "<a id=\"org24ba48b\"></a>\n",
    "\n",
    "### Ejercicio 12: ligado-libre de H⁻\n",
    "\n",
    "Escribe una función `xsec_Hminus_boundfree(nu)` y úsela para reproducir la figura 8.3 de Gray (línea continua). Queremos una función de $\\nu$ por consistencia con las demás, pero se tendrá que convertir a $\\lambda$ dentro de la función para poder usar la ec. 8.11. Note que la figura tiene escala logarítmica para el eje $y$."
   ]
  },
  {
   "cell_type": "markdown",
   "metadata": {},
   "source": [
    "<a id=\"org7622dfc\"></a>\n",
    "\n",
    "### Ejercicio 12: libre-libre de H⁰ + e⁻\n",
    "\n",
    "Escribe una función `xsec_Hminus_freefree(T, nu)` y úsela para reproducir la figura 8.4 de Gray. Note que esta sección recta es por átomo de H⁰ y por unidad de $P_e$. Note que la figura tiene escala logarítmica para ambos ejes, $x$ y $y$. También el rango de $\\lambda$ es más amplia que en las gráficas anteriores."
   ]
  },
  {
   "cell_type": "markdown",
   "metadata": {},
   "source": [
    "<a id=\"org5453896\"></a>\n",
    "\n",
    "# Relación entre densidad total de hidrógeno $N_\\mathrm{H}$ y presión de electrones $P_e$\n",
    "\n",
    "Las figuras de Gray que esperamos reproducir son para valores fijos de $T$ y $P_e$. Sin embargo, nuestras funciones para H⁰ están en función de la densidad. Entonces, necesitamos funciones para traducir entre los dos. Note que habría sido más fácil (aunque menos divertido &#x2026;) escribir todo en función de $P_e$ desde el principio.\n",
    "\n",
    "Pasar de densidad de hidrógeno a la presión de electrones es fácil: $P_e = N_e k T$, donde $N_e = y N_\\mathrm{H}$."
   ]
  },
  {
   "cell_type": "code",
   "execution_count": null,
   "metadata": {
    "lines_to_next_cell": 2
   },
   "outputs": [],
   "source": [
    "def funcPe(Hden, T):\n",
    "    \"\"\"\n",
    "    Presión electrónica como función de densidad total y temperatura\n",
    "    \"\"\"\n",
    "    return Hden*Hplus_fraction(Hden, T)*k_B.cgs.value*T"
   ]
  },
  {
   "cell_type": "markdown",
   "metadata": {},
   "source": [
    "<a id=\"org0e8231a\"></a>\n",
    "\n",
    "## Ejercicio 13: Graficar $P_e(T)$ para diferentes densidades\n",
    "\n",
    "Use cuatro densidades: $\\{10^{12}, 10^{14}, 10^{16}, 10^{18}\\}$ y la misma `Tgrid` que antes. Use una escala logarítmica en el eje $y$. A temperaturas altas, $P_e$ crece linealmente con $T$, que se ve plano en la figura. A temperaturas bajas, las curvas son mucho más empinadas. ¿Por qué?"
   ]
  },
  {
   "cell_type": "markdown",
   "metadata": {},
   "source": [
    "<a id=\"org769e5eb\"></a>\n",
    "\n",
    "## Solución implícita para invertir la relación\n",
    "\n",
    "Pasar en la otra dirección, $N_\\mathrm{H}(P_e, T)$, es más complicada. Una solución es buscar (para una `Pe` y `T` dada) el valor de `Hden` que es raiz de la ecuación: `funcPe(Hden, T) - Pe = 0`. Aquí hay una posible implementación de esta idea:"
   ]
  },
  {
   "cell_type": "code",
   "execution_count": null,
   "metadata": {},
   "outputs": [],
   "source": [
    "@np.vectorize\n",
    "def funcHden(Pe, T):\n",
    "    \"\"\"\n",
    "    Densidad total como función de Pe y T\n",
    "\n",
    "    Esta función busca numericamente el raiz para Hden de la función\n",
    "\n",
    "    funcPe(Hden, T) - Pe = 0\n",
    "\n",
    "    empezando con un primer intento que suponga 50% ionización\n",
    "    \"\"\"\n",
    "    from scipy.optimize import fsolve\n",
    "    Hden0 = 0.5*Pe / (k_B.cgs.value*T) # primer intento es 50% ionizado\n",
    "    return fsolve(lambda Hden: funcPe(Hden, T) - Pe, Hden0)[0]"
   ]
  },
  {
   "cell_type": "markdown",
   "metadata": {},
   "source": [
    "Se usa la función `fsolve` de la librería `scipy.optimize`, que usa iteración a partir de una estimación inicial."
   ]
  },
  {
   "cell_type": "markdown",
   "metadata": {},
   "source": [
    "<a id=\"orgb46c79b\"></a>\n",
    "\n",
    "## Ejercicio 14: Graficar $N_\\mathrm{H}(P_e, T)$ para diferentes presiones electrónicas\n",
    "\n",
    "Use cuatro valores: $P_e = \\{1, 10, 100, 1000\\}$ electrones/cm$^-3$ y un rango de temperatura que empieza en 4500 K. No se puede encontrar una solución para temperaturas muy bajas si la $P_e$ es alta. ¿por qué?"
   ]
  },
  {
   "cell_type": "markdown",
   "metadata": {},
   "source": [
    "<a id=\"orgc5b161c\"></a>\n",
    "\n",
    "# Opacidad total en función de longitud de onda\n",
    "\n",
    "Ya tenemos todas las piezas necesarias para reproducir la Fig 5.8."
   ]
  },
  {
   "cell_type": "markdown",
   "metadata": {},
   "source": [
    "<a id=\"org7e396f1\"></a>\n",
    "\n",
    "## Opacidad por unidad de masa\n",
    "\n",
    "Primero, escribimos una función que calcula la opacidad total por unidad de masa porque esta es una cantidad estándar."
   ]
  },
  {
   "cell_type": "code",
   "execution_count": null,
   "metadata": {
    "lines_to_next_cell": 2
   },
   "outputs": [],
   "source": [
    "def opacidad_total(Pe, T, wavs):\n",
    "    \"\"\"\n",
    "    Calcular la opacidad total del continuo de un gas de H puro en ETL\n",
    "\n",
    "    Parámetros de entrada:\n",
    "\n",
    "    Pe   : presión de electrones (dyne cm^{-2}) \n",
    "    T    : temperatura (K)\n",
    "    wavs : arreglo de longitudes de onda (Å)\n",
    "\n",
    "    Resultado: \n",
    "\n",
    "    opacities: dict con coeficiente de absorción por masa (cm^2/g)\n",
    "               elementos son \"Total\", \"H0bf\", \"H0ff\", \"Hmbf\", \"Hmff\"\n",
    "    \"\"\"\n",
    "\n",
    "    Hden = funcHden(Pe, T)                # densidad total de H\n",
    "    y = Hplus_fraction_U(Hden, T)           # fracción de ionización\n",
    "    Hpden = y*Hden                        # densidad de H+\n",
    "    eden = y*Hden                         # densidad de electrones\n",
    "    H0den = (1.0 - y)*Hden                # densidad de H0\n",
    "    Hmden = Hden*Hminus_fraction(Hden, T) # densidad de H-\n",
    "\n",
    "    # frequencies are pure numbers in Hz\n",
    "    nu = (light_speed/(wavs*u.AA)).cgs.value\n",
    "    stimulated_correction = (1.0 - np.exp(-h.cgs.value*nu / (k_B.cgs.value*T)))\n",
    "    opacities = {}\n",
    "\n",
    "    # H0 ligado-libre\n",
    "    opacities[\"H0bf\"] = 0.0\n",
    "    nmax = int(nmax_pressure_ionization(Hden))\n",
    "    Un = H0_partition_function(T, nmax)\n",
    "    for n in range(1, nmax+1):\n",
    "        opacities[\"H0bf\"] += H0den * H0_level_population(n, T, Un) * xsec_H0_boundfree(n, nu)\n",
    "    opacities[\"H0bf\"] *= stimulated_correction\n",
    "    # H0 libre-libre\n",
    "    opacities[\"H0ff\"] = Hpden * eden * xsec_H0_freefree(T, nu)\n",
    "    opacities[\"H0ff\"] *= stimulated_correction\n",
    "    # H- ligado-libre\n",
    "    opacities[\"Hmbf\"] = Hmden * xsec_Hminus_boundfree(nu)\n",
    "    opacities[\"Hmbf\"] *= stimulated_correction \n",
    "    # H- libre-libre (que ya incluye emisión estimulada)\n",
    "    opacities[\"Hmff\"] = H0den * Pe * xsec_Hminus_freefree(T, nu)\n",
    "\n",
    "    # convertir a opacidad por masa\n",
    "    total = 0.0\n",
    "    for k in opacities.keys():\n",
    "      m = opacities[k] < 0.0\n",
    "      opacities[k][m] = 0.0\n",
    "      opacities[k] /= H0den*m_p.cgs.value\n",
    "      total += opacities[k]\n",
    "    opacities[\"Total\"] = total\n",
    "    # guardar metadata\n",
    "    opacities[\"metadata\"] = {'N_H': Hden, 'y_H': y}\n",
    "\n",
    "    return opacities"
   ]
  },
  {
   "cell_type": "markdown",
   "metadata": {},
   "source": [
    "<a id=\"orga37529e\"></a>\n",
    "\n",
    "### Ejercico 15: Probar la función `opacidad_total()`\n",
    "\n",
    "Utilice la función con diferentes valores de `Pe` y `T`."
   ]
  },
  {
   "cell_type": "code",
   "execution_count": null,
   "metadata": {},
   "outputs": [],
   "source": [
    "opacidad_total(Pe=10.0, T=1e4, wavs=[3000, 10000])"
   ]
  },
  {
   "cell_type": "markdown",
   "metadata": {},
   "source": [
    "Asegúrese que entiende los resultados."
   ]
  },
  {
   "cell_type": "markdown",
   "metadata": {},
   "source": [
    "<a id=\"org77c35cf\"></a>\n",
    "\n",
    "## Figuras 8.5(a)-(d) de Gray\n",
    "\n",
    "Aquí hay una función para producir una figura en las unidades que se usan en el libro (sección eficaz por H⁰ por $P_e$)."
   ]
  },
  {
   "cell_type": "code",
   "execution_count": null,
   "metadata": {
    "lines_to_next_cell": 2
   },
   "outputs": [],
   "source": [
    "styles = {\n",
    "  'Total': {'color': 'k', 'ls': '-'},\n",
    "  'H0bf': {'color': 'r', 'ls': '-'},\n",
    "  'H0ff': {'color': 'r', 'ls': '--'},\n",
    "  'Hmbf': {'color': 'g', 'ls': '-'},\n",
    "  'Hmff': {'color': 'g', 'ls': '--'},\n",
    "}\n",
    "def plot_opacities(Pe, T, wavrange=[3000., 20000.], yscale='linear'):\n",
    "  wavs = np.linspace(wavrange[0], wavrange[1], 500)\n",
    "  fig, ax = plt.subplots(1, 1)\n",
    "  opac = opacidad_total(Pe, T, wavs)\n",
    "  data = opac.pop('metadata')\n",
    "  for kwd in opac.keys():\n",
    "    ax.plot(wavs, opac[kwd]*m_p.cgs.value/Pe/1e-26, label=kwd, **styles[kwd])\n",
    "  frame = ax.legend(loc='upper right', **legend_box_params).get_frame()\n",
    "  frame.set_facecolor('white')\n",
    "  strings = []\n",
    "  strings.append('$T = {}$ K'.format(T))\n",
    "  strings.append(r'$\\log_{{10}} P_e = {:.2f}$'.format(np.log10(Pe)))\n",
    "  strings.append(r'$\\log_{{10}} N_H = {:.2f}$'.format(np.log10(float(data['N_H']))))\n",
    "  strings.append('$y = {:.5f}$'.format(float(data['y_H'])))\n",
    "  ax.set_title(r'$\\quad$'.join(strings), fontsize='small')\n",
    "  ax.set_xlabel('Wavelength, Å')\n",
    "  ax.set_ylabel('Opacity per H per unit electron pressure / $10^{-26}$')\n",
    "  ax.set_yscale(yscale)\n",
    "  return None"
   ]
  },
  {
   "cell_type": "markdown",
   "metadata": {},
   "source": [
    "<a id=\"org45d3515\"></a>\n",
    "\n",
    "### Ejercicio 16: Reproducción de la figura 8.5\n",
    "\n",
    "Use la función `plot_opacities(Pe, T)` para reproducir los cuatro paneles de la figura. Para la (a), hay que ver los errata"
   ]
  }
 ],
 "metadata": {
  "jupytext": {
   "formats": "ipynb,py:light,md"
  },
  "kernel_info": {
   "name": "python3"
  },
  "kernelspec": {
   "display_name": "Python 3",
   "language": "python",
   "name": "python3"
  },
  "language_info": {
   "codemirror_mode": {
    "name": "ipython",
    "version": 3
   },
   "file_extension": ".py",
   "mimetype": "text/x-python",
   "name": "python",
   "nbconvert_exporter": "python",
   "pygments_lexer": "ipython3",
   "version": "3.8.1"
  }
 },
 "nbformat": 4,
 "nbformat_minor": 4
}
